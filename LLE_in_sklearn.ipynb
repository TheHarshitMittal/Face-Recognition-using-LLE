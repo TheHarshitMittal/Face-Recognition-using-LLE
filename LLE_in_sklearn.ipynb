{
 "cells": [
  {
   "cell_type": "code",
   "execution_count": 1,
   "id": "e2aae8b0-f3e1-41bf-a7f6-4d17cad33c88",
   "metadata": {},
   "outputs": [],
   "source": [
    "import numpy as np\n",
    "import pandas as pd\n",
    "import matplotlib.pyplot as plt\n",
    "\n",
    "from sklearn.model_selection import train_test_split\n",
    "from sklearn.decomposition import PCA\n",
    "from sklearn.svm import SVC\n",
    "from sklearn.naive_bayes import GaussianNB\n",
    "from sklearn.neighbors import KNeighborsClassifier\n",
    "from sklearn.tree import DecisionTreeClassifier\n",
    "from sklearn.linear_model import LogisticRegression\n",
    "from sklearn.discriminant_analysis import LinearDiscriminantAnalysis\n",
    "from sklearn import metrics\n",
    "from sklearn.datasets import fetch_olivetti_faces"
   ]
  },
  {
   "cell_type": "code",
   "execution_count": 2,
   "id": "a48f4b41-9565-4831-a0c7-bf4e8715b25c",
   "metadata": {},
   "outputs": [],
   "source": [
    "image_data = fetch_olivetti_faces()"
   ]
  },
  {
   "cell_type": "code",
   "execution_count": 3,
   "id": "301e4ca7-bbd4-4ab5-8864-9c31b5b26050",
   "metadata": {},
   "outputs": [],
   "source": [
    "X, target = image_data.data, image_data.target"
   ]
  },
  {
   "cell_type": "code",
   "execution_count": 4,
   "id": "3712f7e6-11f2-44d2-a10a-8cfdd4997bab",
   "metadata": {},
   "outputs": [
    {
     "name": "stdout",
     "output_type": "stream",
     "text": [
      "There are 400 images in the dataset\n"
     ]
    }
   ],
   "source": [
    "print(\"There are {} images in the dataset\".format(len(X)))"
   ]
  },
  {
   "cell_type": "code",
   "execution_count": 5,
   "id": "d19d1a4d-f806-450e-80fc-9b3ff0549efb",
   "metadata": {},
   "outputs": [
    {
     "name": "stdout",
     "output_type": "stream",
     "text": [
      "unique target number: [ 0  1  2  3  4  5  6  7  8  9 10 11 12 13 14 15 16 17 18 19 20 21 22 23\n",
      " 24 25 26 27 28 29 30 31 32 33 34 35 36 37 38 39]\n"
     ]
    }
   ],
   "source": [
    "print(\"unique target number:\",np.unique(target))"
   ]
  },
  {
   "cell_type": "code",
   "execution_count": 6,
   "id": "cbf05ba9-4b28-4138-b265-8aefa1a365e1",
   "metadata": {},
   "outputs": [
    {
     "name": "stdout",
     "output_type": "stream",
     "text": [
      "X_train shape: (280, 4096)\n",
      "y_train shape:(280,)\n"
     ]
    }
   ],
   "source": [
    "X_train, X_test, y_train, y_test=train_test_split(X, target, test_size=0.3, stratify=target, random_state=0)\n",
    "print(\"X_train shape:\",X_train.shape)\n",
    "print(\"y_train shape:{}\".format(y_train.shape))"
   ]
  },
  {
   "cell_type": "code",
   "execution_count": 7,
   "id": "b1dc59db-5e08-4681-9f38-ff5e6eefe227",
   "metadata": {},
   "outputs": [],
   "source": [
    "from sklearn.manifold import LocallyLinearEmbedding\n",
    "lle=LocallyLinearEmbedding(n_components=2)\n",
    "lle.fit(X)\n",
    "X_lle=lle.transform(X)"
   ]
  },
  {
   "cell_type": "code",
   "execution_count": 9,
   "id": "8758e1c7-76b9-4497-a789-d81f4604b034",
   "metadata": {},
   "outputs": [
    {
     "data": {
      "text/plain": [
       "LocallyLinearEmbedding(n_components=90)"
      ]
     },
     "execution_count": 9,
     "metadata": {},
     "output_type": "execute_result"
    }
   ],
   "source": [
    "n_components=90\n",
    "lle=LocallyLinearEmbedding(n_components=n_components)\n",
    "lle.fit(X_train)"
   ]
  },
  {
   "cell_type": "code",
   "execution_count": 13,
   "id": "77a13c8d-eb84-405d-86ff-23751aa8db67",
   "metadata": {},
   "outputs": [],
   "source": [
    "X_train_lle=lle.transform(X_train)\n",
    "X_test_lle=lle.transform(X_test)"
   ]
  },
  {
   "cell_type": "code",
   "execution_count": 15,
   "id": "86c87759-2a55-4e97-803b-824f74b65a39",
   "metadata": {},
   "outputs": [
    {
     "name": "stdout",
     "output_type": "stream",
     "text": [
      "accuracy score:0.84\n"
     ]
    }
   ],
   "source": [
    "clf = SVC()\n",
    "clf.fit(X_train_lle, y_train)\n",
    "y_pred = clf.predict(X_test_lle)\n",
    "print(\"accuracy score:{:.2f}\".format(metrics.accuracy_score(y_test, y_pred)))"
   ]
  },
  {
   "cell_type": "code",
   "execution_count": 17,
   "id": "8b6aaf98-d2f6-4e1f-8074-702cf9e34e34",
   "metadata": {},
   "outputs": [
    {
     "name": "stdout",
     "output_type": "stream",
     "text": [
      "========== LDA RESULT ==========\n",
      "Accuracy score:0.88\n",
      "\n",
      "========== LR RESULT ==========\n",
      "Accuracy score:0.83\n",
      "\n",
      "========== NB RESULT ==========\n",
      "Accuracy score:0.83\n",
      "\n",
      "========== KNN RESULT ==========\n",
      "Accuracy score:0.62\n",
      "\n",
      "========== DT RESULT ==========\n",
      "Accuracy score:0.73\n",
      "\n",
      "========== SVM RESULT ==========\n",
      "Accuracy score:0.84\n",
      "\n"
     ]
    },
    {
     "name": "stderr",
     "output_type": "stream",
     "text": [
      "C:\\Users\\mitta\\anaconda3\\lib\\site-packages\\sklearn\\neighbors\\_classification.py:228: FutureWarning: Unlike other reduction functions (e.g. `skew`, `kurtosis`), the default behavior of `mode` typically preserves the axis it acts along. In SciPy 1.11.0, this behavior will change: the default value of `keepdims` will become False, the `axis` over which the statistic is taken will be eliminated, and the value None will no longer be accepted. Set `keepdims` to True or False to avoid this warning.\n",
      "  mode, _ = stats.mode(_y[neigh_ind, k], axis=1)\n"
     ]
    }
   ],
   "source": [
    "models=[]\n",
    "models.append(('LDA', LinearDiscriminantAnalysis()))\n",
    "models.append((\"LR\",LogisticRegression()))\n",
    "models.append((\"NB\",GaussianNB()))\n",
    "models.append((\"KNN\",KNeighborsClassifier(n_neighbors=5)))\n",
    "models.append((\"DT\",DecisionTreeClassifier()))\n",
    "models.append((\"SVM\",SVC()))\n",
    "\n",
    "\n",
    "for name, model in models:\n",
    "    \n",
    "    clf=model\n",
    "\n",
    "    clf.fit(X_train_lle, y_train)\n",
    "\n",
    "    y_pred=clf.predict(X_test_lle)\n",
    "    print(10*\"=\",\"{} Result\".format(name).upper(),10*\"=\")\n",
    "    print(\"Accuracy score:{:0.2f}\".format(metrics.accuracy_score(y_test, y_pred)))\n",
    "    print()"
   ]
  },
  {
   "cell_type": "code",
   "execution_count": 19,
   "id": "81a7fae3-bb23-4c2e-935f-0f39dc9bfa4f",
   "metadata": {},
   "outputs": [
    {
     "name": "stdout",
     "output_type": "stream",
     "text": [
      "Accuracy score:0.88\n"
     ]
    }
   ],
   "source": [
    "lr=LinearDiscriminantAnalysis()\n",
    "lr.fit(X_train_lle, y_train)\n",
    "y_pred=lr.predict(X_test_lle)\n",
    "print(\"Accuracy score:{:.2f}\".format(metrics.accuracy_score(y_test, y_pred)))"
   ]
  },
  {
   "cell_type": "code",
   "execution_count": null,
   "id": "289d103f-cd15-4441-9bf4-6ad7e3641749",
   "metadata": {},
   "outputs": [],
   "source": []
  }
 ],
 "metadata": {
  "kernelspec": {
   "display_name": "Python 3 (ipykernel)",
   "language": "python",
   "name": "python3"
  },
  "language_info": {
   "codemirror_mode": {
    "name": "ipython",
    "version": 3
   },
   "file_extension": ".py",
   "mimetype": "text/x-python",
   "name": "python",
   "nbconvert_exporter": "python",
   "pygments_lexer": "ipython3",
   "version": "3.9.13"
  }
 },
 "nbformat": 4,
 "nbformat_minor": 5
}
